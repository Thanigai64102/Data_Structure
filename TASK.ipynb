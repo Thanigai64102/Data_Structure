{
 "cells": [
  {
   "cell_type": "code",
   "execution_count": 37,
   "id": "aa0529e8",
   "metadata": {},
   "outputs": [],
   "source": [
    "VALUES={1:\"thanigai murugan\",2:\"B.Tech CSE\",3:\"PMIST\",4:\"122012012887\",5:\"AIML\",6:\"Robotics engineer\"}"
   ]
  },
  {
   "cell_type": "code",
   "execution_count": 38,
   "id": "c54dc156",
   "metadata": {},
   "outputs": [
    {
     "data": {
      "text/plain": [
       "'thanigai murugan'"
      ]
     },
     "execution_count": 38,
     "metadata": {},
     "output_type": "execute_result"
    }
   ],
   "source": [
    "VALUES[1]"
   ]
  },
  {
   "cell_type": "code",
   "execution_count": 39,
   "id": "bec55f79",
   "metadata": {},
   "outputs": [
    {
     "data": {
      "text/plain": [
       "'122012012887'"
      ]
     },
     "execution_count": 39,
     "metadata": {},
     "output_type": "execute_result"
    }
   ],
   "source": [
    "VALUES[4]"
   ]
  },
  {
   "cell_type": "code",
   "execution_count": 40,
   "id": "a3399391",
   "metadata": {},
   "outputs": [
    {
     "data": {
      "text/plain": [
       "'Robotics engineer'"
      ]
     },
     "execution_count": 40,
     "metadata": {},
     "output_type": "execute_result"
    }
   ],
   "source": [
    "VALUES[6]"
   ]
  },
  {
   "cell_type": "code",
   "execution_count": 42,
   "id": "3d0e8bd5",
   "metadata": {},
   "outputs": [
    {
     "name": "stdout",
     "output_type": "stream",
     "text": [
      "I am thanigai murugan studying B.Tech CSE in PMIST.My register number is 122012012887.I have registered for AIML is to become a Robotics engineer.\n"
     ]
    }
   ],
   "source": [
    "print(\"I am {} studying {} in {}.My register number is {}.I have registered for {} is to become a {}.\".format(VALUES[1],VALUES[2],VALUES[3],VALUES[4],VALUES[5],VALUES[6]))"
   ]
  },
  {
   "cell_type": "code",
   "execution_count": null,
   "id": "61cf08aa",
   "metadata": {},
   "outputs": [],
   "source": []
  },
  {
   "cell_type": "code",
   "execution_count": null,
   "id": "9fe2004b",
   "metadata": {},
   "outputs": [],
   "source": []
  }
 ],
 "metadata": {
  "kernelspec": {
   "display_name": "Python 3 (ipykernel)",
   "language": "python",
   "name": "python3"
  },
  "language_info": {
   "codemirror_mode": {
    "name": "ipython",
    "version": 3
   },
   "file_extension": ".py",
   "mimetype": "text/x-python",
   "name": "python",
   "nbconvert_exporter": "python",
   "pygments_lexer": "ipython3",
   "version": "3.11.4"
  }
 },
 "nbformat": 4,
 "nbformat_minor": 5
}

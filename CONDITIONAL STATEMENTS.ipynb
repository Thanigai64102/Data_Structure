{
 "cells": [
  {
   "cell_type": "markdown",
   "id": "b1c84af2",
   "metadata": {},
   "source": [
    "# CONDITIONAL STATEMENT(IF,ELSE,ELIF)"
   ]
  },
  {
   "cell_type": "code",
   "execution_count": 5,
   "id": "8ced9c36",
   "metadata": {},
   "outputs": [],
   "source": [
    "R=4"
   ]
  },
  {
   "cell_type": "code",
   "execution_count": 6,
   "id": "4c26cb5b",
   "metadata": {},
   "outputs": [
    {
     "name": "stdout",
     "output_type": "stream",
     "text": [
      "PASS\n"
     ]
    }
   ],
   "source": [
    "if R==4:\n",
    "    print(\"PASS\")\n",
    "else:\n",
    "    print(\"FAIL\")"
   ]
  },
  {
   "cell_type": "code",
   "execution_count": 10,
   "id": "5f8ccfd9",
   "metadata": {},
   "outputs": [
    {
     "name": "stdout",
     "output_type": "stream",
     "text": [
      "ENTER THE VALUE:44\n",
      "FAIL\n"
     ]
    }
   ],
   "source": [
    "T=int(input(\"ENTER THE VALUE:\"))\n",
    "if T>=75:\n",
    "    print(\"PASS\")\n",
    "else:\n",
    "    print(\"FAIL\")"
   ]
  },
  {
   "cell_type": "code",
   "execution_count": 11,
   "id": "10c25d27",
   "metadata": {},
   "outputs": [
    {
     "name": "stdout",
     "output_type": "stream",
     "text": [
      "Enter your age:14\n",
      "YOU ARE NOT ELIGIBLE FOR VOTING\n"
     ]
    }
   ],
   "source": [
    "AGE=int(input(\"Enter your age:\"))\n",
    "if AGE>=18:\n",
    "    print(\"YOU ARE ELIGIBLE FOR VOTING\")\n",
    "else:\n",
    "    print(\"YOU ARE NOT ELIGIBLE FOR VOTING\")"
   ]
  },
  {
   "cell_type": "code",
   "execution_count": 12,
   "id": "fbfe1a4e",
   "metadata": {},
   "outputs": [
    {
     "name": "stdout",
     "output_type": "stream",
     "text": [
      "Enter your age:24\n",
      "YOU ARE ELIGIBLE FOR VOTING\n",
      "ENTER YOUR NAME:THANIGAI MURUGAN\n",
      "ENTER YOUR AREA:THANJAVUR\n"
     ]
    }
   ],
   "source": [
    "AGE=int(input(\"Enter your age:\"))\n",
    "if AGE>=18:\n",
    "    print(\"YOU ARE ELIGIBLE FOR VOTING\")\n",
    "    NAME=input(\"ENTER YOUR NAME:\")\n",
    "    LOCATION=input(\"ENTER YOUR AREA:\")\n",
    "else:\n",
    "    print(\"YOU ARE NOT ELIGIBLE FOR VOTING\")"
   ]
  },
  {
   "cell_type": "code",
   "execution_count": 5,
   "id": "d0a6d86d",
   "metadata": {},
   "outputs": [
    {
     "name": "stdout",
     "output_type": "stream",
     "text": [
      "CANDIDATES NOT SUBMITTED THE BOOKS WITHIN THE DUE DATE:20\n",
      "YOU CANNOT ACCESS ANY BOOKS FROM OUR LIBRARY BEFORE PAYING YOUR DUE FEES.\n"
     ]
    }
   ],
   "source": [
    "BOOKS=int(input(\"CANDIDATES NOT SUBMITTED THE BOOKS WITHIN THE DUE DATE:\"))\n",
    "if BOOKS>= 1 and BOOKS<=5:\n",
    "    print(\"FINE AMOUNT:500 RUPEES\")\n",
    "elif BOOKS>=6 and BOOKS<=15:\n",
    "    print(\"FINE AMOUNT:1000 RUPEES\")\n",
    "else:\n",
    "    print(\"YOU CANNOT ACCESS ANY BOOKS FROM OUR LIBRARY BEFORE PAYING YOUR DUE FEES.\")"
   ]
  },
  {
   "cell_type": "code",
   "execution_count": null,
   "id": "841f304d",
   "metadata": {},
   "outputs": [],
   "source": []
  }
 ],
 "metadata": {
  "kernelspec": {
   "display_name": "Python 3 (ipykernel)",
   "language": "python",
   "name": "python3"
  },
  "language_info": {
   "codemirror_mode": {
    "name": "ipython",
    "version": 3
   },
   "file_extension": ".py",
   "mimetype": "text/x-python",
   "name": "python",
   "nbconvert_exporter": "python",
   "pygments_lexer": "ipython3",
   "version": "3.11.4"
  }
 },
 "nbformat": 4,
 "nbformat_minor": 5
}

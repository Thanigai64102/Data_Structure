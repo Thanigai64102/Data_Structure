{
 "cells": [
  {
   "cell_type": "markdown",
   "id": "73341714",
   "metadata": {},
   "source": [
    "# FOR LOOP"
   ]
  },
  {
   "cell_type": "code",
   "execution_count": null,
   "id": "f0ac6e35",
   "metadata": {},
   "outputs": [],
   "source": [
    "pseudo code:\n",
    "    for <variable> in <sequence>:\n",
    "        <statement>"
   ]
  },
  {
   "cell_type": "code",
   "execution_count": 1,
   "id": "3a557189",
   "metadata": {},
   "outputs": [],
   "source": [
    "list=[1,2,3,4,5,6]"
   ]
  },
  {
   "cell_type": "code",
   "execution_count": 2,
   "id": "faf93866",
   "metadata": {},
   "outputs": [
    {
     "name": "stdout",
     "output_type": "stream",
     "text": [
      "Enter your name:THANIGAI MURUGAN\n",
      "Enter your name:THANIGAI MURUGAN\n",
      "Enter your name:THANIGAI MURUGAN\n",
      "Enter your name:THANIGAI MURUGAN\n",
      "Enter your name:THANIGAI MURUGAN\n",
      "Enter your name:THANIGAI MURUGAN\n"
     ]
    }
   ],
   "source": [
    "for step in list:\n",
    "    input(\"Enter your name:\")"
   ]
  },
  {
   "cell_type": "code",
   "execution_count": 3,
   "id": "c384aa9a",
   "metadata": {},
   "outputs": [
    {
     "name": "stdout",
     "output_type": "stream",
     "text": [
      "THANIGAI\n",
      "THANIGAI\n",
      "THANIGAI\n",
      "THANIGAI\n",
      "THANIGAI\n",
      "THANIGAI\n"
     ]
    }
   ],
   "source": [
    "for step in list:\n",
    "    print(\"THANIGAI\")"
   ]
  },
  {
   "cell_type": "code",
   "execution_count": 4,
   "id": "4f9dcb09",
   "metadata": {},
   "outputs": [
    {
     "name": "stdout",
     "output_type": "stream",
     "text": [
      "The step is 1\n",
      "The step is 2\n",
      "The step is 3\n",
      "The step is 4\n",
      "The step is 5\n",
      "The step is 6\n"
     ]
    }
   ],
   "source": [
    "for step in list:\n",
    "    print(f\"The step is {step}\")"
   ]
  },
  {
   "cell_type": "markdown",
   "id": "45916496",
   "metadata": {},
   "source": [
    "# TASK"
   ]
  },
  {
   "cell_type": "code",
   "execution_count": 5,
   "id": "5da2d15f",
   "metadata": {},
   "outputs": [
    {
     "name": "stdout",
     "output_type": "stream",
     "text": [
      "Enter the number of products in your trolly4\n",
      "Enter the number of product:pen\n",
      "Enter the number of product:pencil\n",
      "Enter the number of product:eraser\n",
      "Enter the number of product:scale\n"
     ]
    }
   ],
   "source": [
    "a=int(input(\"Enter the number of products in your trolly\"))\n",
    "for product in range (a):\n",
    "    str(input(\"Enter the number of product:\"))"
   ]
  },
  {
   "cell_type": "code",
   "execution_count": 6,
   "id": "4471304f",
   "metadata": {},
   "outputs": [
    {
     "data": {
      "text/plain": [
       "4"
      ]
     },
     "execution_count": 6,
     "metadata": {},
     "output_type": "execute_result"
    }
   ],
   "source": [
    "a"
   ]
  },
  {
   "cell_type": "code",
   "execution_count": 25,
   "id": "5c7f080e",
   "metadata": {},
   "outputs": [
    {
     "name": "stdout",
     "output_type": "stream",
     "text": [
      "Enter the number of items purchased:4\n",
      "Enter product name:galaxy\n",
      "Enter product name:bounty\n",
      "Enter product name:snickers\n",
      "Enter product name:milky bar\n"
     ]
    }
   ],
   "source": [
    "prod_name=[]\n",
    "total_item=int(input(\"Enter the number of items purchased:\"))\n",
    "for item in range(0,total_item):\n",
    "    prod_name.append(input(\"Enter product name:\"))"
   ]
  },
  {
   "cell_type": "code",
   "execution_count": 27,
   "id": "ad9c27e3",
   "metadata": {},
   "outputs": [
    {
     "data": {
      "text/plain": [
       "['galaxy', 'bounty', 'snickers', 'milky bar']"
      ]
     },
     "execution_count": 27,
     "metadata": {},
     "output_type": "execute_result"
    }
   ],
   "source": [
    "prod_name"
   ]
  },
  {
   "cell_type": "code",
   "execution_count": 28,
   "id": "66f94300",
   "metadata": {},
   "outputs": [
    {
     "data": {
      "text/plain": [
       "4"
      ]
     },
     "execution_count": 28,
     "metadata": {},
     "output_type": "execute_result"
    }
   ],
   "source": [
    "total_item"
   ]
  },
  {
   "cell_type": "code",
   "execution_count": null,
   "id": "31a34929",
   "metadata": {},
   "outputs": [],
   "source": []
  },
  {
   "cell_type": "markdown",
   "id": "c06c764c",
   "metadata": {},
   "source": [
    "# WHILE LOOP"
   ]
  },
  {
   "cell_type": "code",
   "execution_count": null,
   "id": "38fddbf6",
   "metadata": {},
   "outputs": [],
   "source": [
    "pseudo code:\n",
    "    while<condition>:\n",
    "        <statements>"
   ]
  }
 ],
 "metadata": {
  "kernelspec": {
   "display_name": "Python 3 (ipykernel)",
   "language": "python",
   "name": "python3"
  },
  "language_info": {
   "codemirror_mode": {
    "name": "ipython",
    "version": 3
   },
   "file_extension": ".py",
   "mimetype": "text/x-python",
   "name": "python",
   "nbconvert_exporter": "python",
   "pygments_lexer": "ipython3",
   "version": "3.11.4"
  }
 },
 "nbformat": 4,
 "nbformat_minor": 5
}

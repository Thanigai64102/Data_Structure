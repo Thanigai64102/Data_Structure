{
 "cells": [
  {
   "cell_type": "code",
   "execution_count": 1,
   "id": "58da3ce7",
   "metadata": {},
   "outputs": [],
   "source": [
    "a=10"
   ]
  },
  {
   "cell_type": "code",
   "execution_count": 2,
   "id": "e99f5d47",
   "metadata": {},
   "outputs": [
    {
     "data": {
      "text/plain": [
       "10"
      ]
     },
     "execution_count": 2,
     "metadata": {},
     "output_type": "execute_result"
    }
   ],
   "source": [
    "a"
   ]
  },
  {
   "cell_type": "code",
   "execution_count": 3,
   "id": "000398f8",
   "metadata": {},
   "outputs": [
    {
     "name": "stdout",
     "output_type": "stream",
     "text": [
      "10\n"
     ]
    }
   ],
   "source": [
    "print(a)"
   ]
  },
  {
   "cell_type": "markdown",
   "id": "74b18b55",
   "metadata": {},
   "source": [
    "# DOT FORMAT PRINTING"
   ]
  },
  {
   "cell_type": "code",
   "execution_count": 10,
   "id": "108fe301",
   "metadata": {},
   "outputs": [],
   "source": [
    "b=\"THANIGAI MURUGAN\""
   ]
  },
  {
   "cell_type": "code",
   "execution_count": 11,
   "id": "754ab5c1",
   "metadata": {},
   "outputs": [
    {
     "name": "stdout",
     "output_type": "stream",
     "text": [
      "MY NAME IS THANIGAI MURUGAN\n"
     ]
    }
   ],
   "source": [
    "print(\"MY NAME IS {}\".format(b))"
   ]
  },
  {
   "cell_type": "code",
   "execution_count": 13,
   "id": "ef19b4b5",
   "metadata": {},
   "outputs": [
    {
     "name": "stdout",
     "output_type": "stream",
     "text": [
      "MY NAME IS THANIGAI MURUGAN\n"
     ]
    }
   ],
   "source": [
    "print(\"MY NAME IS {B}\".format(B=\"THANIGAI MURUGAN\"))"
   ]
  },
  {
   "cell_type": "code",
   "execution_count": 27,
   "id": "4bca9523",
   "metadata": {},
   "outputs": [
    {
     "name": "stdout",
     "output_type": "stream",
     "text": [
      "MY NAME IS THANIGAI MURUGAN.I AM IN PMIST\n"
     ]
    }
   ],
   "source": [
    "print(\"MY NAME IS {B}.I AM IN {college}\".format(B=\"THANIGAI MURUGAN\",college=\"PMIST\"))"
   ]
  },
  {
   "cell_type": "code",
   "execution_count": 21,
   "id": "d5d0ef7f",
   "metadata": {},
   "outputs": [
    {
     "name": "stdout",
     "output_type": "stream",
     "text": [
      "MY NAME IS THANIGAI MURUGAN.\n",
      "I AM IN PMIST\n"
     ]
    }
   ],
   "source": [
    "print(\"MY NAME IS {B}.\\nI AM IN {college}\".format(B=\"THANIGAI MURUGAN\",college=\"PMIST\"))"
   ]
  },
  {
   "cell_type": "code",
   "execution_count": 22,
   "id": "469fbc9f",
   "metadata": {},
   "outputs": [
    {
     "name": "stdout",
     "output_type": "stream",
     "text": [
      "MY NAME IS THANIGAI MURUGAN.I AM IN PMIST\n"
     ]
    }
   ],
   "source": [
    "print(\"MY NAME IS {}.I AM IN {}\".format(\"THANIGAI MURUGAN\",\"PMIST\"))"
   ]
  },
  {
   "cell_type": "markdown",
   "id": "fe80e0bc",
   "metadata": {},
   "source": [
    "# F-PRINT"
   ]
  },
  {
   "cell_type": "code",
   "execution_count": 39,
   "id": "729db681",
   "metadata": {},
   "outputs": [
    {
     "name": "stdout",
     "output_type": "stream",
     "text": [
      "MY NAME IS THANIGAI.I AM COMPUTER SCIENCE ENGINEER\n"
     ]
    }
   ],
   "source": [
    "print(f\"MY NAME IS {'THANIGAI'}.I AM {'COMPUTER SCIENCE'} ENGINEER\")"
   ]
  },
  {
   "cell_type": "markdown",
   "id": "87a69708",
   "metadata": {},
   "source": [
    "# TASK1"
   ]
  },
  {
   "cell_type": "markdown",
   "id": "1ca71d84",
   "metadata": {},
   "source": [
    "# She sell \"sea\" shell in \"sea shore\""
   ]
  },
  {
   "cell_type": "code",
   "execution_count": 1,
   "id": "f5fb0651",
   "metadata": {},
   "outputs": [
    {
     "name": "stdout",
     "output_type": "stream",
     "text": [
      "She sell \"sea\" shell in \"sea shore\"\n"
     ]
    }
   ],
   "source": [
    "print(\"She sell {h} shell in {g}\".format(h='\"sea\"',g='\"sea shore\"'))"
   ]
  },
  {
   "cell_type": "markdown",
   "id": "141de2a5",
   "metadata": {},
   "source": [
    "# USER INPUT"
   ]
  },
  {
   "cell_type": "code",
   "execution_count": 2,
   "id": "f545a4c7",
   "metadata": {},
   "outputs": [
    {
     "name": "stdout",
     "output_type": "stream",
     "text": [
      "44\n"
     ]
    }
   ],
   "source": [
    "var=input()"
   ]
  },
  {
   "cell_type": "code",
   "execution_count": 4,
   "id": "33228b64",
   "metadata": {},
   "outputs": [
    {
     "data": {
      "text/plain": [
       "'44'"
      ]
     },
     "execution_count": 4,
     "metadata": {},
     "output_type": "execute_result"
    }
   ],
   "source": [
    "var"
   ]
  },
  {
   "cell_type": "code",
   "execution_count": 5,
   "id": "b8d5118e",
   "metadata": {},
   "outputs": [
    {
     "data": {
      "text/plain": [
       "str"
      ]
     },
     "execution_count": 5,
     "metadata": {},
     "output_type": "execute_result"
    }
   ],
   "source": [
    "type(var)"
   ]
  },
  {
   "cell_type": "code",
   "execution_count": 6,
   "id": "917c46bc",
   "metadata": {},
   "outputs": [
    {
     "name": "stdout",
     "output_type": "stream",
     "text": [
      "56\n"
     ]
    }
   ],
   "source": [
    "var=int(input())"
   ]
  },
  {
   "cell_type": "code",
   "execution_count": 7,
   "id": "c127be32",
   "metadata": {},
   "outputs": [
    {
     "data": {
      "text/plain": [
       "56"
      ]
     },
     "execution_count": 7,
     "metadata": {},
     "output_type": "execute_result"
    }
   ],
   "source": [
    "var"
   ]
  },
  {
   "cell_type": "code",
   "execution_count": 1,
   "id": "f045c023",
   "metadata": {},
   "outputs": [
    {
     "name": "stdout",
     "output_type": "stream",
     "text": [
      "enter your nameTHANIGAI MURUGAN\n"
     ]
    }
   ],
   "source": [
    "var2=input(\"enter your name\")"
   ]
  },
  {
   "cell_type": "code",
   "execution_count": 3,
   "id": "fc825610",
   "metadata": {},
   "outputs": [
    {
     "data": {
      "text/plain": [
       "str"
      ]
     },
     "execution_count": 3,
     "metadata": {},
     "output_type": "execute_result"
    }
   ],
   "source": [
    "type(var2)"
   ]
  },
  {
   "cell_type": "code",
   "execution_count": 4,
   "id": "d6b74910",
   "metadata": {},
   "outputs": [
    {
     "data": {
      "text/plain": [
       "'THANIGAI MURUGAN'"
      ]
     },
     "execution_count": 4,
     "metadata": {},
     "output_type": "execute_result"
    }
   ],
   "source": [
    "var2"
   ]
  },
  {
   "cell_type": "code",
   "execution_count": null,
   "id": "1aed554e",
   "metadata": {},
   "outputs": [],
   "source": []
  }
 ],
 "metadata": {
  "kernelspec": {
   "display_name": "Python 3 (ipykernel)",
   "language": "python",
   "name": "python3"
  },
  "language_info": {
   "codemirror_mode": {
    "name": "ipython",
    "version": 3
   },
   "file_extension": ".py",
   "mimetype": "text/x-python",
   "name": "python",
   "nbconvert_exporter": "python",
   "pygments_lexer": "ipython3",
   "version": "3.11.4"
  }
 },
 "nbformat": 4,
 "nbformat_minor": 5
}

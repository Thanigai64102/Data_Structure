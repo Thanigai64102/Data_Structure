{
 "cells": [
  {
   "cell_type": "code",
   "execution_count": null,
   "id": "e82034fe",
   "metadata": {},
   "outputs": [],
   "source": [
    "def<function_name>(Parameters)\n",
    " statements    "
   ]
  },
  {
   "cell_type": "code",
   "execution_count": 1,
   "id": "c369cadf",
   "metadata": {},
   "outputs": [],
   "source": [
    "def add(a,b,c):\n",
    "    c=a+b\n",
    "    return c"
   ]
  },
  {
   "cell_type": "code",
   "execution_count": 2,
   "id": "3adfeb1e",
   "metadata": {},
   "outputs": [
    {
     "data": {
      "text/plain": [
       "3"
      ]
     },
     "execution_count": 2,
     "metadata": {},
     "output_type": "execute_result"
    }
   ],
   "source": [
    "add(1,2,3)"
   ]
  },
  {
   "cell_type": "code",
   "execution_count": 4,
   "id": "480b908e",
   "metadata": {},
   "outputs": [
    {
     "name": "stdout",
     "output_type": "stream",
     "text": [
      "Enter the values of Addition:\n",
      "Enter number1:7\n",
      "Enter number2:4\n"
     ]
    },
    {
     "data": {
      "text/plain": [
       "11"
      ]
     },
     "execution_count": 4,
     "metadata": {},
     "output_type": "execute_result"
    }
   ],
   "source": [
    "def add():\n",
    "    print(\"Enter the values of Addition:\")\n",
    "    a=int(input(\"Enter number1:\"))\n",
    "    b=int(input(\"Enter number2:\"))\n",
    "    c=a+b\n",
    "    return c\n",
    "add()"
   ]
  },
  {
   "cell_type": "code",
   "execution_count": 7,
   "id": "5b74df08",
   "metadata": {},
   "outputs": [
    {
     "name": "stdout",
     "output_type": "stream",
     "text": [
      "You are not eligible for voting.\n"
     ]
    }
   ],
   "source": [
    "def eligibility(age):\n",
    "    if age>=18:\n",
    "        print(\"You are eligible for voting.\")\n",
    "    else:\n",
    "        print(\"You are not eligible for voting.\")\n",
    "eligibility(10)"
   ]
  },
  {
   "cell_type": "code",
   "execution_count": 11,
   "id": "adf98b14",
   "metadata": {},
   "outputs": [],
   "source": [
    "def savings(amt,perc,dur):\n",
    "    interest=amt*perc"
   ]
  },
  {
   "cell_type": "code",
   "execution_count": 15,
   "id": "7486cffe",
   "metadata": {},
   "outputs": [
    {
     "name": "stdout",
     "output_type": "stream",
     "text": [
      "Enter the values of interest:\n",
      "Enter number1:5000\n",
      "Enter number2:8000\n"
     ]
    },
    {
     "data": {
      "text/plain": [
       "40000000"
      ]
     },
     "execution_count": 15,
     "metadata": {},
     "output_type": "execute_result"
    }
   ],
   "source": [
    "def savings():\n",
    "    print(\"Enter the values of interest:\")\n",
    "    amt=int(input(\"Enter number1:\"))\n",
    "    perc=int(input(\"Enter number2:\"))\n",
    "    interest=amt*perc\n",
    "    return interest\n",
    "savings()"
   ]
  },
  {
   "cell_type": "code",
   "execution_count": null,
   "id": "cb50df0a",
   "metadata": {},
   "outputs": [],
   "source": []
  }
 ],
 "metadata": {
  "kernelspec": {
   "display_name": "Python 3 (ipykernel)",
   "language": "python",
   "name": "python3"
  },
  "language_info": {
   "codemirror_mode": {
    "name": "ipython",
    "version": 3
   },
   "file_extension": ".py",
   "mimetype": "text/x-python",
   "name": "python",
   "nbconvert_exporter": "python",
   "pygments_lexer": "ipython3",
   "version": "3.11.4"
  }
 },
 "nbformat": 4,
 "nbformat_minor": 5
}

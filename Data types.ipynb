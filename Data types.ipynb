{
 "cells": [
  {
   "cell_type": "code",
   "execution_count": 1,
   "id": "b3ab508c",
   "metadata": {},
   "outputs": [],
   "source": [
    "list=[12,14,16,20]"
   ]
  },
  {
   "cell_type": "code",
   "execution_count": 2,
   "id": "e894821b",
   "metadata": {},
   "outputs": [],
   "source": [
    "tuple=(15,30,66,44)"
   ]
  },
  {
   "cell_type": "code",
   "execution_count": 3,
   "id": "4719e693",
   "metadata": {},
   "outputs": [
    {
     "data": {
      "text/plain": [
       "list"
      ]
     },
     "execution_count": 3,
     "metadata": {},
     "output_type": "execute_result"
    }
   ],
   "source": [
    "type(list)"
   ]
  },
  {
   "cell_type": "code",
   "execution_count": 24,
   "id": "a54e34d9",
   "metadata": {},
   "outputs": [
    {
     "name": "stdout",
     "output_type": "stream",
     "text": [
      "range(0, 100)\n"
     ]
    }
   ],
   "source": [
    "CODE=range(0,100)\n",
    "print(a)"
   ]
  },
  {
   "cell_type": "code",
   "execution_count": 13,
   "id": "d80a2f68",
   "metadata": {},
   "outputs": [
    {
     "name": "stdout",
     "output_type": "stream",
     "text": [
      "Requirement already satisfied: numpy in c:\\users\\thanigai\\anaconda\\envs\\robotics\\lib\\site-packages (1.25.2)\n",
      "Note: you may need to restart the kernel to use updated packages.\n"
     ]
    }
   ],
   "source": [
    "pip install numpy"
   ]
  },
  {
   "cell_type": "code",
   "execution_count": 14,
   "id": "83f331ac",
   "metadata": {},
   "outputs": [],
   "source": [
    "import numpy as n"
   ]
  },
  {
   "cell_type": "code",
   "execution_count": 26,
   "id": "0aac4330",
   "metadata": {},
   "outputs": [
    {
     "data": {
      "text/plain": [
       "dict"
      ]
     },
     "execution_count": 26,
     "metadata": {},
     "output_type": "execute_result"
    }
   ],
   "source": [
    "NAME={1:\"Thanigai\",2:\"Msd\"}\n",
    "type(NAME)"
   ]
  },
  {
   "cell_type": "code",
   "execution_count": 27,
   "id": "8f5a662d",
   "metadata": {},
   "outputs": [
    {
     "data": {
      "text/plain": [
       "dict_values(['Thanigai', 'Msd'])"
      ]
     },
     "execution_count": 27,
     "metadata": {},
     "output_type": "execute_result"
    }
   ],
   "source": [
    "NAME.values()"
   ]
  },
  {
   "cell_type": "code",
   "execution_count": 28,
   "id": "36281261",
   "metadata": {},
   "outputs": [
    {
     "data": {
      "text/plain": [
       "dict_keys([1, 2])"
      ]
     },
     "execution_count": 28,
     "metadata": {},
     "output_type": "execute_result"
    }
   ],
   "source": [
    "NAME.keys()"
   ]
  },
  {
   "cell_type": "code",
   "execution_count": 30,
   "id": "e2f0af86",
   "metadata": {},
   "outputs": [
    {
     "data": {
      "text/plain": [
       "{1: 'Thanigai', 2: 'Msd'}"
      ]
     },
     "execution_count": 30,
     "metadata": {},
     "output_type": "execute_result"
    }
   ],
   "source": [
    "NAME"
   ]
  },
  {
   "cell_type": "code",
   "execution_count": 31,
   "id": "42500898",
   "metadata": {},
   "outputs": [
    {
     "data": {
      "text/plain": [
       "'Msd'"
      ]
     },
     "execution_count": 31,
     "metadata": {},
     "output_type": "execute_result"
    }
   ],
   "source": [
    "NAME[2]"
   ]
  },
  {
   "cell_type": "code",
   "execution_count": 42,
   "id": "aab5b4c5",
   "metadata": {},
   "outputs": [],
   "source": [
    "REGISTER={\"NAME\":\"THANIGAI\",\"AGE\":18,'BG':'A1+VE'}"
   ]
  },
  {
   "cell_type": "code",
   "execution_count": 36,
   "id": "5947144c",
   "metadata": {},
   "outputs": [
    {
     "data": {
      "text/plain": [
       "'THANIGAI'"
      ]
     },
     "execution_count": 36,
     "metadata": {},
     "output_type": "execute_result"
    }
   ],
   "source": [
    "REGISTER[\"NAME\"]"
   ]
  },
  {
   "cell_type": "code",
   "execution_count": 37,
   "id": "a2454c6e",
   "metadata": {},
   "outputs": [
    {
     "data": {
      "text/plain": [
       "3"
      ]
     },
     "execution_count": 37,
     "metadata": {},
     "output_type": "execute_result"
    }
   ],
   "source": [
    "len(REGISTER)\n"
   ]
  },
  {
   "cell_type": "code",
   "execution_count": 43,
   "id": "8b6954d6",
   "metadata": {},
   "outputs": [
    {
     "data": {
      "text/plain": [
       "'A1+VE'"
      ]
     },
     "execution_count": 43,
     "metadata": {},
     "output_type": "execute_result"
    }
   ],
   "source": [
    "REGISTER.pop('BG')"
   ]
  },
  {
   "cell_type": "code",
   "execution_count": 44,
   "id": "48191bd7",
   "metadata": {},
   "outputs": [
    {
     "data": {
      "text/plain": [
       "{'NAME': 'THANIGAI', 'AGE': 18}"
      ]
     },
     "execution_count": 44,
     "metadata": {},
     "output_type": "execute_result"
    }
   ],
   "source": [
    "REGISTER"
   ]
  },
  {
   "cell_type": "code",
   "execution_count": 58,
   "id": "6b06964a",
   "metadata": {},
   "outputs": [],
   "source": [
    "REGISTER2={\"NAME:MSD\",\"AGE:41\",\"BG:A+VE\"}\n"
   ]
  },
  {
   "cell_type": "code",
   "execution_count": 59,
   "id": "c82b4382",
   "metadata": {},
   "outputs": [
    {
     "data": {
      "text/plain": [
       "dict"
      ]
     },
     "execution_count": 59,
     "metadata": {},
     "output_type": "execute_result"
    }
   ],
   "source": [
    "type(REGISTER)"
   ]
  },
  {
   "cell_type": "code",
   "execution_count": 60,
   "id": "5f0529ed",
   "metadata": {},
   "outputs": [
    {
     "data": {
      "text/plain": [
       "set"
      ]
     },
     "execution_count": 60,
     "metadata": {},
     "output_type": "execute_result"
    }
   ],
   "source": [
    "type(REGISTER2)"
   ]
  },
  {
   "cell_type": "code",
   "execution_count": 61,
   "id": "4b2ff8af",
   "metadata": {},
   "outputs": [],
   "source": [
    "REGISTER2.add(\"JOB:CRICKETER\")"
   ]
  },
  {
   "cell_type": "code",
   "execution_count": 62,
   "id": "f5c2b813",
   "metadata": {},
   "outputs": [
    {
     "data": {
      "text/plain": [
       "{'AGE:41', 'BG:A+VE', 'JOB:CRICKETER', 'NAME:MSD'}"
      ]
     },
     "execution_count": 62,
     "metadata": {},
     "output_type": "execute_result"
    }
   ],
   "source": [
    "REGISTER2"
   ]
  },
  {
   "cell_type": "code",
   "execution_count": 63,
   "id": "a7a8b773",
   "metadata": {},
   "outputs": [],
   "source": [
    "REGISTER2.update({\"SALARY:100C\"})"
   ]
  },
  {
   "cell_type": "code",
   "execution_count": 64,
   "id": "9bcdbd6f",
   "metadata": {},
   "outputs": [
    {
     "data": {
      "text/plain": [
       "{'AGE:41', 'BG:A+VE', 'JOB:CRICKETER', 'NAME:MSD', 'SALARY:100C'}"
      ]
     },
     "execution_count": 64,
     "metadata": {},
     "output_type": "execute_result"
    }
   ],
   "source": [
    "REGISTER2"
   ]
  },
  {
   "cell_type": "code",
   "execution_count": 65,
   "id": "eb223379",
   "metadata": {},
   "outputs": [
    {
     "data": {
      "text/plain": [
       "frozenset"
      ]
     },
     "execution_count": 65,
     "metadata": {},
     "output_type": "execute_result"
    }
   ],
   "source": [
    "REGISTER3=frozenset({\"RAINA\"})\n",
    "type(REGISTER3)"
   ]
  },
  {
   "cell_type": "code",
   "execution_count": 66,
   "id": "122fb679",
   "metadata": {},
   "outputs": [
    {
     "data": {
      "text/plain": [
       "True"
      ]
     },
     "execution_count": 66,
     "metadata": {},
     "output_type": "execute_result"
    }
   ],
   "source": [
    "a=40\n",
    "b=44\n",
    "a<b"
   ]
  },
  {
   "cell_type": "code",
   "execution_count": 68,
   "id": "7d6ce34b",
   "metadata": {},
   "outputs": [
    {
     "data": {
      "text/plain": [
       "False"
      ]
     },
     "execution_count": 68,
     "metadata": {},
     "output_type": "execute_result"
    }
   ],
   "source": [
    "a=40\n",
    "b=44\n",
    "a>b"
   ]
  },
  {
   "cell_type": "code",
   "execution_count": null,
   "id": "085cb370",
   "metadata": {},
   "outputs": [],
   "source": []
  }
 ],
 "metadata": {
  "kernelspec": {
   "display_name": "Python 3 (ipykernel)",
   "language": "python",
   "name": "python3"
  },
  "language_info": {
   "codemirror_mode": {
    "name": "ipython",
    "version": 3
   },
   "file_extension": ".py",
   "mimetype": "text/x-python",
   "name": "python",
   "nbconvert_exporter": "python",
   "pygments_lexer": "ipython3",
   "version": "3.11.4"
  }
 },
 "nbformat": 4,
 "nbformat_minor": 5
}
